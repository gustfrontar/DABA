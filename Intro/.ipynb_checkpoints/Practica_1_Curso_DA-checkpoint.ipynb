{
 "cells": [
  {
   "cell_type": "markdown",
   "metadata": {},
   "source": [
    "# Curso de Asimilación de Datos (DCAO 2019)\n"
   ]
  },
  {
   "cell_type": "markdown",
   "metadata": {},
   "source": [
    "### Repaso de Python, Probabilidades y Distribución Gaussiana\n",
    "Los ejercicios propuestos fueron diseñados para resolverse con Python. Podría utilizarse otro lenguaje."
   ]
  },
  {
   "cell_type": "code",
   "execution_count": 5,
   "metadata": {},
   "outputs": [],
   "source": [
    "from __future__ import division\n",
    "import numpy as np\n",
    "import matplotlib.pyplot as plt\n"
   ]
  },
  {
   "cell_type": "markdown",
   "metadata": {},
   "source": [
    "### Ejercicio 1 - Probabilidades\n"
   ]
  },
  {
   "cell_type": "markdown",
   "metadata": {},
   "source": [
    "Defina una función que repita n veces el lanzamiento de un dado y devuelva como resultado un vector (np.array) con los n numeros enteros obtenidos. La función debe recibir como argumento el número de repeticiones del experimento"
   ]
  },
  {
   "cell_type": "code",
   "execution_count": null,
   "metadata": {},
   "outputs": [],
   "source": [
    "def multiples_dados(n):\n",
    "    #\n",
    "    # Complete la función\n",
    "    #\n",
    "    #return resultado\n",
    "    pass  #<-Comentar esta línea al finalizar"
   ]
  },
  {
   "cell_type": "markdown",
   "metadata": {},
   "source": [
    "Para el lanzamiento de un dado, definimos los siguientes eventos:\n",
    "\n",
    "* A: Se obtiene un número menor o igual a 2\n",
    "\n",
    "* B: Se obtiene un número mayor a 3\n",
    "\n",
    "* C: Se obtiene un número par"
   ]
  },
  {
   "cell_type": "markdown",
   "metadata": {},
   "source": [
    "**Pregunta 1**: ¿Cuál es la probabilidad de cada uno de estos eventos?\n",
    "\n",
    "**Pregunta 2**: ¿Cuáles de estos eventos son excluyentes?"
   ]
  },
  {
   "cell_type": "markdown",
   "metadata": {},
   "source": [
    "La definición frecuentista de probabilidad, indica que podemos establecer la probabilidad empírica de un evento aleatorio mediante la observación de resultados tras repetir muchas veces un experimento aleatorio. La probabilidad empírica de un evento será el número de veces en los que el experimento arrojó como resultado al evento en cuestión, divido la cantidad de veces en las que repetimos el experimento."
   ]
  },
  {
   "cell_type": "markdown",
   "metadata": {},
   "source": [
    "Utilizando la función _multiples_dados_ definida anteriormente, calcule la probabilidad empírica del suceso A. Verifique con los resultados teóricos."
   ]
  },
  {
   "cell_type": "markdown",
   "metadata": {},
   "source": [
    "¿Cuántas veces repitió el experimento? Realice un gráfico sencillo mostrando cómo varía la probabilidad de cada suceso, en función del número de repeticiones. "
   ]
  },
  {
   "cell_type": "code",
   "execution_count": null,
   "metadata": {},
   "outputs": [],
   "source": [
    "###########################\n",
    "### Ingrese código aquí ###\n",
    "###########################"
   ]
  },
  {
   "cell_type": "markdown",
   "metadata": {},
   "source": [
    "* Verifique empíricamente que los sucesos A y C son independientes. \n",
    "* Verifique empíricamente que los seucesos B y C no son independientes\n",
    "\n",
    "Compare con los resultados de la Pregunta 2"
   ]
  },
  {
   "cell_type": "code",
   "execution_count": null,
   "metadata": {},
   "outputs": [],
   "source": [
    "###########################\n",
    "### Ingrese código aquí ###\n",
    "###########################"
   ]
  },
  {
   "cell_type": "markdown",
   "metadata": {},
   "source": [
    "### Ejercicio 2 - Funciones de densidad\n",
    "El tiempo (en segundos) que demoramos en conectarnos a un servidor de cómputo es una r.v. X. \n",
    "El tiempo (en segundos) que demoramos en conectarnos y autenticarnos a un servidor de cómputo es una r.v. Y\n",
    "\n",
    "La función de densidad conjunta está dada por \n",
    "\n",
    "$𝑝(𝑥,𝑦)=6\\cdot10^{−6}\\cdot e^{(−𝑥−2𝑦)}$, para    $0<𝑥<𝑦$\n",
    "\n",
    "¿Cuál es la probabilidad de que el tiempo de espera de conexión (X) sea menor a 2 segundos y el tiempo total (X) sea menor a 2 segundos?\n",
    "\n",
    "¿Cuál es la probabilidad de que el tiempo de espera de conexión (X) sea mayor a 2 segundos?"
   ]
  },
  {
   "cell_type": "markdown",
   "metadata": {},
   "source": [
    "### Ejercicio 3 - Distribución Normal y Teorema de Bayes"
   ]
  },
  {
   "cell_type": "markdown",
   "metadata": {},
   "source": [
    "Evalúe la evolución de la media muestral y la varianza muestral en función del tamaño de la muestra, hasta n=50. (Guardar la muestra en un vector para utilizar más adelante)"
   ]
  },
  {
   "cell_type": "code",
   "execution_count": null,
   "metadata": {},
   "outputs": [],
   "source": [
    "###########################\n",
    "### Ingrese código aquí ###\n",
    "###########################"
   ]
  },
  {
   "cell_type": "markdown",
   "metadata": {},
   "source": [
    "Grafique los resultados en un histograma \n",
    "(Puede utilizar la función _plt.hist_)"
   ]
  },
  {
   "cell_type": "code",
   "execution_count": null,
   "metadata": {},
   "outputs": [],
   "source": [
    "###########################\n",
    "### Ingrese código aquí ###\n",
    "###########################"
   ]
  },
  {
   "cell_type": "markdown",
   "metadata": {},
   "source": [
    "La función de densidad de probabilidad para una variable aleatoria Gaussiana es:\n",
    "$$ p(x) = \\frac{1}{\\sigma\\sqrt{2 \\pi}} e^{-\\frac{(x-\\mu)^2}{2 \\sigma^2}} \\,  $$\n",
    "\n",
    "Escriba una función que devuelva el valor de $p(x)$ a partir de x"
   ]
  },
  {
   "cell_type": "code",
   "execution_count": null,
   "metadata": {},
   "outputs": [],
   "source": [
    "def pdf_norm(x,mu,s):\n",
    "    \"\"\"Calcula pdf Gaussiana con parametros mu y s^2\"\"\"\n",
    "    ##\n",
    "    ##\n",
    "    ##\n",
    "    pass"
   ]
  },
  {
   "cell_type": "markdown",
   "metadata": {},
   "source": [
    "Grafique las siguientes funciones de densidad:\n",
    "1. $p(x) = \\mathcal{N}(-2,\\sigma_b^2)$\n",
    "2. $p(y|x)= \\mathcal{N}(1,\\sigma_o^2)$"
   ]
  },
  {
   "cell_type": "code",
   "execution_count": null,
   "metadata": {},
   "outputs": [],
   "source": [
    "N  = 101                # Nro. puntos de grilla\n",
    "xx = np.linspace(-10,10,N) # Grilla regular\n",
    "dx = xx[1]-xx[0]\n",
    "sigma_b = 2\n",
    "sigma_o = 1\n",
    "###########################\n",
    "### Ingrese código aquí ###\n",
    "###########################"
   ]
  },
  {
   "cell_type": "markdown",
   "metadata": {},
   "source": [
    "Computacionalmente, utilizaremos las representaciones discretas de las funciones de densidad en la grilla definida por la variable xx. Realizaremos operaciones entre las pdfs utilizando productos y divisiones punto-a-punto en la grilla.   "
   ]
  },
  {
   "cell_type": "markdown",
   "metadata": {},
   "source": [
    "Podríamos inferir la distribución posterior $p(x|y)$ utilizando el teorema de Bayes:\n",
    "$$ p(x|y) = \\frac{p(x) \\, p(y|x)}{p(y)}$$"
   ]
  },
  {
   "cell_type": "markdown",
   "metadata": {},
   "source": [
    "Para esto necesitamos calcular la pdf del denomidador. Esta densidad $p(y)$ no depende de x, por lo que su valor es una constante. De hecho, actúa como un factor de normalización. Halle dicho valor. (Ayuda: Pensar a $p(y)$ como una pdf marginalizada, adaptando estos datos a nuestro contexto de grilla.)"
   ]
  },
  {
   "cell_type": "code",
   "execution_count": null,
   "metadata": {},
   "outputs": [],
   "source": [
    "###########################\n",
    "### Ingrese código aquí ###\n",
    "###########################"
   ]
  },
  {
   "cell_type": "markdown",
   "metadata": {},
   "source": [
    "Calcule finalmente $p(x|y)$ y grafique las tres funciones de densidad. Guardar la figura a un archivo."
   ]
  },
  {
   "cell_type": "code",
   "execution_count": null,
   "metadata": {},
   "outputs": [],
   "source": [
    "###########################\n",
    "### Ingrese código aquí ###\n",
    "###########################"
   ]
  },
  {
   "cell_type": "markdown",
   "metadata": {},
   "source": [
    "Analizar y comparar qué ocurre al  aumentar o reducir los valores de  $\\sigma_o$. ¿Que ocurre para valores sumamente altos/pequeños de $\\sigma_o$. ¿Ocurrirá algo similar al modificar $\\sigma_b$? "
   ]
  },
  {
   "cell_type": "code",
   "execution_count": null,
   "metadata": {},
   "outputs": [],
   "source": [
    "###########################\n",
    "### Ingrese código aquí ###\n",
    "###########################"
   ]
  },
  {
   "cell_type": "markdown",
   "metadata": {},
   "source": [
    "### Ejercicio 4 - Distribución Gaussiana multivariada"
   ]
  },
  {
   "cell_type": "markdown",
   "metadata": {},
   "source": [
    "Tenemos un vector aleatoria $X\\in R^3$, con distribución Gaussiana centrada (i.e. media cero) y covarianza Q,\n",
    "$$Q=\n",
    "\\begin{bmatrix}\n",
    "4 &2  &-1 \\\\ \n",
    " 2& 4 &0 \\\\ \n",
    " -1&  0&2 \n",
    "\\end{bmatrix}\n",
    "$$\n",
    "\n",
    "**Pregunta 1:** ¿Que podemos decir acerca de la variabilidad de  cada una de las variables de $X$?\n",
    "\n",
    "Podemos verificar realizando scatter plots de una muestra aleatoria de la distribución.\n",
    "\n",
    "Para las variables $X_1$ y $X_2$, que ocurre con la muestra si la covarianza entre estas variables aumenta o disminuye mucho?"
   ]
  },
  {
   "cell_type": "code",
   "execution_count": null,
   "metadata": {},
   "outputs": [],
   "source": [
    "###########################\n",
    "### Ingrese código aquí ###\n",
    "###########################"
   ]
  },
  {
   "cell_type": "markdown",
   "metadata": {},
   "source": [
    "Sea $Z\\in R^8$ una variable aleatoria con distribución Gaussiana, $Z\\sim \\mathcal{N}(0,4I)$ "
   ]
  },
  {
   "cell_type": "markdown",
   "metadata": {},
   "source": [
    "* Genere una muestra aleatoria de $Z$ con 100 elementos. \n",
    "* Calcule la covarianza empírica de la muestra y repita el experimento hasta que la matriz de covarianza obtenida sea similar a la covarianza teórica de $Z$.  ¿Que tamaño de muestra seleccionó?"
   ]
  },
  {
   "cell_type": "markdown",
   "metadata": {},
   "source": [
    "### Modelos Autorregresivos"
   ]
  },
  {
   "cell_type": "markdown",
   "metadata": {},
   "source": [
    "Un tipo de proceso estocástico Markoviano es el modelo AR(1) o autorregresivo de orden 1.\n",
    "\n",
    "\n",
    "\\begin{cases} X(t_1) = 0 \\\\ X(t_i)=\\alpha X(t_{i-1})+\\epsilon(t_i), \\quad 0<|\\alpha|<1, \\quad i=2,3,...,T \\end{cases}\n",
    "\n",
    "Donde $\\epsilon(t_i)\\sim \\mathcal{N}(0,\\sigma^2)$ es un proceso de ruido blanco Gaussiano\n",
    "\n",
    "\n",
    "Una realización de este proceso estocástico es una caminata aleatoria.\n",
    "\n",
    "* Codificar una función _proc_ar_1_ que devuelva una realización de este proceso durante _T_ pasos de tiempo. La función debe recibir  los parámetros $\\alpha$ y $\\sigma$.\n"
   ]
  },
  {
   "cell_type": "code",
   "execution_count": null,
   "metadata": {},
   "outputs": [],
   "source": [
    "###########################\n",
    "### Ingrese código aquí ###\n",
    "###########################"
   ]
  },
  {
   "cell_type": "markdown",
   "metadata": {},
   "source": [
    "* Generar una serie de tiempo para T=500 pasos de tiempo usando parámetros $\\alpha=0.95$ y $\\sigma=1$. Evalúe combinaciones de estos parámetros con $\\alpha=0.5$  y $\\sigma=0.1$. ¿Qué efecto tiene el parámetro $\\alpha$?"
   ]
  },
  {
   "cell_type": "code",
   "execution_count": 8,
   "metadata": {},
   "outputs": [],
   "source": [
    "###########################\n",
    "### Ingrese código aquí ###\n",
    "###########################"
   ]
  },
  {
   "cell_type": "markdown",
   "metadata": {},
   "source": [
    "* Realizar N=5000 simulaciones durante T=100 pasos de tiempo. Verificar empíricamente que la esperanza del proceso tiende a cero para cualquier instante de tiempo $t_i$\n"
   ]
  },
  {
   "cell_type": "code",
   "execution_count": 6,
   "metadata": {},
   "outputs": [],
   "source": [
    "###########################\n",
    "### Ingrese código aquí ###\n",
    "###########################"
   ]
  },
  {
   "cell_type": "markdown",
   "metadata": {},
   "source": [
    "En ecuación dinámica de las variables de estado dada por $ X(t_i) = M (X(t_{i-1})) + w(t_i) $,\n",
    "\n",
    "¿Qué carácteristicas de los errores estaríamos tratando de reproducir si usásemos un modelo AR(1) en lugar de un ruido blanco Gaussiano para $w(t_i)$?"
   ]
  },
  {
   "cell_type": "markdown",
   "metadata": {},
   "source": [
    "### Modelo Lorenz 63 \n",
    "Utilizando el código provisto, realizar simulaciones con el modelo lorenz 63.\n",
    "\n",
    "\n",
    "* Plotear la evolución de dos de las variables\n",
    "\n",
    "* Volver a integrar el modelo 5 veces perturbando levemente la condición inicial. ¿Existen regiones del espacio en los que el estado del es más predecible?\n",
    "\n",
    "* Rehacer la simulación N veces usando la condicion inicial real pero perturbando levemente los parámetros\n",
    "\n",
    "* Grafique el error medio del ensamble como función del tiempo\n",
    "\n",
    "* Podemos eliminar las divergencias reduciendo el timestep?\n",
    "\n",
    "* Deseamos asimilar las variables del modelo de Lorenz pero sólo podemos observar dos variables: $z$ y $x+y$. ¿Qué forma tendrá el operado de observación $\\mathbf{H}$?"
   ]
  },
  {
   "cell_type": "code",
   "execution_count": null,
   "metadata": {},
   "outputs": [],
   "source": []
  },
  {
   "cell_type": "code",
   "execution_count": null,
   "metadata": {},
   "outputs": [],
   "source": []
  }
 ],
 "metadata": {
  "kernelspec": {
   "display_name": "Python 3",
   "language": "python",
   "name": "python3"
  },
  "language_info": {
   "codemirror_mode": {
    "name": "ipython",
    "version": 3
   },
   "file_extension": ".py",
   "mimetype": "text/x-python",
   "name": "python",
   "nbconvert_exporter": "python",
   "pygments_lexer": "ipython3",
   "version": "3.7.3"
  }
 },
 "nbformat": 4,
 "nbformat_minor": 2
}
